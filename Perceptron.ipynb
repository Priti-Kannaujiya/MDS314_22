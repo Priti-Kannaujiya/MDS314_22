{
 "cells": [
  {
   "cell_type": "code",
   "execution_count": 1,
   "id": "4306b3c7-faf2-485c-abd3-ab38d416967a",
   "metadata": {},
   "outputs": [],
   "source": [
    "import numpy as np\n",
    "import pandas as pd\n",
    "import seaborn as sns\n",
    "import matplotlib.pyplot as plt"
   ]
  },
  {
   "cell_type": "code",
   "execution_count": 19,
   "id": "b6188c8d-6f4a-40f5-a11e-e36e96ec77c7",
   "metadata": {},
   "outputs": [
    {
     "name": "stdout",
     "output_type": "stream",
     "text": [
      "   S0  S1  S2\n",
      "0   1   1   1\n",
      "1   1   1   0\n",
      "2   1   0   1\n",
      "3   1   0   0\n"
     ]
    }
   ],
   "source": [
    "X = [\n",
    "    [1,1,1],\n",
    "    [1,1,0],\n",
    "    [1, 0,1],\n",
    "    [1,0,0]\n",
    "]\n",
    "y=[1,-1,-1,-1]\n",
    "df=pd.DataFrame(X,columns=['S0','S1','S2'])\n",
    "print(df)"
   ]
  },
  {
   "cell_type": "code",
   "execution_count": 20,
   "id": "346f3675-ee7e-4e78-953f-7e2f1fe4e890",
   "metadata": {},
   "outputs": [],
   "source": [
    "df['Target']=y"
   ]
  },
  {
   "cell_type": "code",
   "execution_count": 21,
   "id": "669082e4-696c-4b19-82b8-55c295f4a8d7",
   "metadata": {},
   "outputs": [
    {
     "name": "stdout",
     "output_type": "stream",
     "text": [
      "   S0  S1  S2  Target\n",
      "0   1   1   1       1\n",
      "1   1   1   0      -1\n",
      "2   1   0   1      -1\n",
      "3   1   0   0      -1\n"
     ]
    }
   ],
   "source": [
    "print(df)"
   ]
  },
  {
   "cell_type": "code",
   "execution_count": 24,
   "id": "2101fd8f-032d-40a9-bd26-6a2a5f7935e3",
   "metadata": {},
   "outputs": [],
   "source": [
    "X=df.iloc[:,:-1]\n",
    "y=df.iloc[:,-1]"
   ]
  },
  {
   "cell_type": "code",
   "execution_count": 37,
   "id": "175022f2-6d0d-4886-bcaf-6ec47dbc7f84",
   "metadata": {},
   "outputs": [
    {
     "data": {
      "text/plain": [
       "4"
      ]
     },
     "execution_count": 37,
     "metadata": {},
     "output_type": "execute_result"
    }
   ],
   "source": [
    "X.shape[0]          # tells about total number of rows\n",
    "X.shape[1]          # tells about total number of column accept the last one\n",
    "len(df)"
   ]
  },
  {
   "cell_type": "code",
   "execution_count": 44,
   "id": "91dce249-3e30-4ec4-ad71-6ad1927cdea2",
   "metadata": {},
   "outputs": [],
   "source": [
    "def perceptron(X,y):\n",
    "    X=np.insert(X,0,1,axis=1)\n",
    "    weights=np.ones(X.shape[1])\n",
    "    lr=0.1\n",
    "    for i in range(100):\n",
    "        for j in range(X.shape[0]):\n",
    "            Yin=np.dot(X[j],weights)\n",
    "            if Yin>=0:\n",
    "                Y_pred=1\n",
    "            else:\n",
    "                Y_pred=0\n",
    "            if Y_pred==y[j]:\n",
    "                weights=weights\n",
    "            else:\n",
    "                weights=weights+ lr*(y[j])*X[j]\n",
    "\n",
    "    return weights[0],weights[1:]"
   ]
  },
  {
   "cell_type": "code",
   "execution_count": 45,
   "id": "571b51f4-f3a7-410a-85dc-70520c211ae6",
   "metadata": {},
   "outputs": [],
   "source": [
    " intercept_,coef_ = perceptron(X,y)"
   ]
  },
  {
   "cell_type": "code",
   "execution_count": 46,
   "id": "26a2ddc0-318f-4d2e-ab9e-9bf9276a86ec",
   "metadata": {},
   "outputs": [
    {
     "name": "stdout",
     "output_type": "stream",
     "text": [
      "[-19.6   0.4   0.4]\n",
      "-19.60000000000001\n"
     ]
    }
   ],
   "source": [
    "print(coef_)\n",
    "print(intercept_)"
   ]
  },
  {
   "cell_type": "code",
   "execution_count": null,
   "id": "c3de4cd2-5020-4af2-b016-ba47c9da6312",
   "metadata": {},
   "outputs": [],
   "source": []
  },
  {
   "cell_type": "code",
   "execution_count": null,
   "id": "21c5c8ef-e3a7-4823-ba3a-8753e2f04e09",
   "metadata": {},
   "outputs": [],
   "source": []
  },
  {
   "cell_type": "code",
   "execution_count": null,
   "id": "8805ea2c-f2eb-4590-8eca-987fe5fef7a5",
   "metadata": {},
   "outputs": [],
   "source": []
  }
 ],
 "metadata": {
  "kernelspec": {
   "display_name": "Python 3 (ipykernel)",
   "language": "python",
   "name": "python3"
  },
  "language_info": {
   "codemirror_mode": {
    "name": "ipython",
    "version": 3
   },
   "file_extension": ".py",
   "mimetype": "text/x-python",
   "name": "python",
   "nbconvert_exporter": "python",
   "pygments_lexer": "ipython3",
   "version": "3.13.1"
  }
 },
 "nbformat": 4,
 "nbformat_minor": 5
}
