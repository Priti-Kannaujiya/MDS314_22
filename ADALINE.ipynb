{
 "cells": [
  {
   "cell_type": "code",
   "execution_count": 1,
   "id": "24c12950-0122-4724-8615-5583a56d851b",
   "metadata": {},
   "outputs": [],
   "source": [
    "import numpy as np\n",
    "import pandas as pd"
   ]
  },
  {
   "cell_type": "code",
   "execution_count": 2,
   "id": "3650f9cb-a5a5-479e-8006-9892063e8d96",
   "metadata": {},
   "outputs": [],
   "source": [
    "data=[\n",
    "    [1,1],\n",
    "    [1,0],\n",
    "    [0,1],\n",
    "    [0,0]\n",
    "]\n",
    "output=[1,-1,-1,-1]\n",
    "df=pd.DataFrame(data,columns=['s1','s2'])"
   ]
  },
  {
   "cell_type": "code",
   "execution_count": 3,
   "id": "084beae4-c30c-460a-960a-7f35fd4165b4",
   "metadata": {},
   "outputs": [
    {
     "data": {
      "text/html": [
       "<div>\n",
       "<style scoped>\n",
       "    .dataframe tbody tr th:only-of-type {\n",
       "        vertical-align: middle;\n",
       "    }\n",
       "\n",
       "    .dataframe tbody tr th {\n",
       "        vertical-align: top;\n",
       "    }\n",
       "\n",
       "    .dataframe thead th {\n",
       "        text-align: right;\n",
       "    }\n",
       "</style>\n",
       "<table border=\"1\" class=\"dataframe\">\n",
       "  <thead>\n",
       "    <tr style=\"text-align: right;\">\n",
       "      <th></th>\n",
       "      <th>s1</th>\n",
       "      <th>s2</th>\n",
       "      <th>Target</th>\n",
       "    </tr>\n",
       "  </thead>\n",
       "  <tbody>\n",
       "    <tr>\n",
       "      <th>0</th>\n",
       "      <td>1</td>\n",
       "      <td>1</td>\n",
       "      <td>1</td>\n",
       "    </tr>\n",
       "    <tr>\n",
       "      <th>1</th>\n",
       "      <td>1</td>\n",
       "      <td>0</td>\n",
       "      <td>-1</td>\n",
       "    </tr>\n",
       "    <tr>\n",
       "      <th>2</th>\n",
       "      <td>0</td>\n",
       "      <td>1</td>\n",
       "      <td>-1</td>\n",
       "    </tr>\n",
       "    <tr>\n",
       "      <th>3</th>\n",
       "      <td>0</td>\n",
       "      <td>0</td>\n",
       "      <td>-1</td>\n",
       "    </tr>\n",
       "  </tbody>\n",
       "</table>\n",
       "</div>"
      ],
      "text/plain": [
       "   s1  s2  Target\n",
       "0   1   1       1\n",
       "1   1   0      -1\n",
       "2   0   1      -1\n",
       "3   0   0      -1"
      ]
     },
     "execution_count": 3,
     "metadata": {},
     "output_type": "execute_result"
    }
   ],
   "source": [
    "df[\"Target\"]=output\n",
    "df"
   ]
  },
  {
   "cell_type": "code",
   "execution_count": 4,
   "id": "08021b84-8e18-49ab-8af3-2833a739d0f2",
   "metadata": {},
   "outputs": [
    {
     "data": {
      "text/plain": [
       "4"
      ]
     },
     "execution_count": 4,
     "metadata": {},
     "output_type": "execute_result"
    }
   ],
   "source": [
    "X=df.iloc[:,:-1]\n",
    "y=df.iloc[:,-1]\n",
    "X.shape[0]"
   ]
  },
  {
   "cell_type": "code",
   "execution_count": 11,
   "id": "e104f677-5e3c-4d07-8f3b-ca66b6ac33ef",
   "metadata": {},
   "outputs": [],
   "source": [
    "def Adaline(X,y):\n",
    "   X=np.insert(X,0,1,axis=1)\n",
    "   weights=np.zeros(X.shape[1])\n",
    "   lr=1\n",
    "   epoch=1\n",
    "\n",
    "   for i in range(epoch):\n",
    "        for j in range(X.shape[0]):\n",
    "            Yin=np.dot(X[j],weights)\n",
    "            weights=weights+ lr*(y[j]-Yin)*X[j]\n",
    "\n",
    "   return weights[0],weights[1:]\n",
    "    "
   ]
  },
  {
   "cell_type": "code",
   "execution_count": 12,
   "id": "96fa3ceb-565d-40ea-8112-24d4e8d372e2",
   "metadata": {},
   "outputs": [],
   "source": [
    " intercept_,coef_ = Adaline(X,y)"
   ]
  },
  {
   "cell_type": "code",
   "execution_count": 15,
   "id": "2c702783-ea37-4f36-b1b3-6f1c6c849e73",
   "metadata": {},
   "outputs": [
    {
     "name": "stdout",
     "output_type": "stream",
     "text": [
      "-1.0\n",
      "[-2.  1.]\n"
     ]
    }
   ],
   "source": [
    "print(intercept_)\n",
    "print(coef_)"
   ]
  },
  {
   "cell_type": "code",
   "execution_count": 14,
   "id": "2d759ffb-0f49-4bc3-9852-2e9a1708b064",
   "metadata": {},
   "outputs": [
    {
     "name": "stdout",
     "output_type": "stream",
     "text": [
      "[-2.  1.]\n"
     ]
    }
   ],
   "source": [
    "print(coef_)"
   ]
  },
  {
   "cell_type": "code",
   "execution_count": null,
   "id": "b5d61348-afb8-45cf-993c-b33ade9b0f83",
   "metadata": {},
   "outputs": [],
   "source": []
  }
 ],
 "metadata": {
  "kernelspec": {
   "display_name": "Python 3 (ipykernel)",
   "language": "python",
   "name": "python3"
  },
  "language_info": {
   "codemirror_mode": {
    "name": "ipython",
    "version": 3
   },
   "file_extension": ".py",
   "mimetype": "text/x-python",
   "name": "python",
   "nbconvert_exporter": "python",
   "pygments_lexer": "ipython3",
   "version": "3.13.1"
  }
 },
 "nbformat": 4,
 "nbformat_minor": 5
}
